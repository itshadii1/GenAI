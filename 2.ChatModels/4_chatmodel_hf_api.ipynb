{
 "cells": [
  {
   "cell_type": "code",
   "execution_count": 2,
   "id": "b8d7479d",
   "metadata": {},
   "outputs": [
    {
     "name": "stdout",
     "output_type": "stream",
     "text": [
      "Collecting langchain-huggingface\n",
      "  Downloading langchain_huggingface-0.3.0-py3-none-any.whl.metadata (996 bytes)\n",
      "Requirement already satisfied: transformers in /Users/hadi/.pyenv/versions/3.10.11/lib/python3.10/site-packages (4.52.4)\n",
      "Requirement already satisfied: torch in /Users/hadi/.pyenv/versions/3.10.11/lib/python3.10/site-packages (2.7.1)\n",
      "Requirement already satisfied: langchain-core<1.0.0,>=0.3.65 in /Users/hadi/.pyenv/versions/3.10.11/lib/python3.10/site-packages (from langchain-huggingface) (0.3.66)\n",
      "Requirement already satisfied: tokenizers>=0.19.1 in /Users/hadi/.pyenv/versions/3.10.11/lib/python3.10/site-packages (from langchain-huggingface) (0.21.1)\n",
      "Requirement already satisfied: huggingface-hub>=0.30.2 in /Users/hadi/.pyenv/versions/3.10.11/lib/python3.10/site-packages (from langchain-huggingface) (0.33.0)\n",
      "Requirement already satisfied: langsmith>=0.3.45 in /Users/hadi/.pyenv/versions/3.10.11/lib/python3.10/site-packages (from langchain-core<1.0.0,>=0.3.65->langchain-huggingface) (0.4.1)\n",
      "Requirement already satisfied: tenacity!=8.4.0,<10.0.0,>=8.1.0 in /Users/hadi/.pyenv/versions/3.10.11/lib/python3.10/site-packages (from langchain-core<1.0.0,>=0.3.65->langchain-huggingface) (9.1.2)\n",
      "Requirement already satisfied: jsonpatch<2.0,>=1.33 in /Users/hadi/.pyenv/versions/3.10.11/lib/python3.10/site-packages (from langchain-core<1.0.0,>=0.3.65->langchain-huggingface) (1.33)\n",
      "Requirement already satisfied: PyYAML>=5.3 in /Users/hadi/.pyenv/versions/3.10.11/lib/python3.10/site-packages (from langchain-core<1.0.0,>=0.3.65->langchain-huggingface) (6.0.2)\n",
      "Requirement already satisfied: packaging<25,>=23.2 in /Users/hadi/.pyenv/versions/3.10.11/lib/python3.10/site-packages (from langchain-core<1.0.0,>=0.3.65->langchain-huggingface) (24.2)\n",
      "Requirement already satisfied: typing-extensions>=4.7 in /Users/hadi/.pyenv/versions/3.10.11/lib/python3.10/site-packages (from langchain-core<1.0.0,>=0.3.65->langchain-huggingface) (4.13.2)\n",
      "Requirement already satisfied: pydantic>=2.7.4 in /Users/hadi/.pyenv/versions/3.10.11/lib/python3.10/site-packages (from langchain-core<1.0.0,>=0.3.65->langchain-huggingface) (2.11.7)\n",
      "Requirement already satisfied: jsonpointer>=1.9 in /Users/hadi/.pyenv/versions/3.10.11/lib/python3.10/site-packages (from jsonpatch<2.0,>=1.33->langchain-core<1.0.0,>=0.3.65->langchain-huggingface) (3.0.0)\n",
      "Requirement already satisfied: filelock in /Users/hadi/.pyenv/versions/3.10.11/lib/python3.10/site-packages (from transformers) (3.18.0)\n",
      "Requirement already satisfied: numpy>=1.17 in /Users/hadi/.pyenv/versions/3.10.11/lib/python3.10/site-packages (from transformers) (2.1.3)\n",
      "Requirement already satisfied: regex!=2019.12.17 in /Users/hadi/.pyenv/versions/3.10.11/lib/python3.10/site-packages (from transformers) (2024.11.6)\n",
      "Requirement already satisfied: requests in /Users/hadi/.pyenv/versions/3.10.11/lib/python3.10/site-packages (from transformers) (2.32.4)\n",
      "Requirement already satisfied: safetensors>=0.4.3 in /Users/hadi/.pyenv/versions/3.10.11/lib/python3.10/site-packages (from transformers) (0.5.3)\n",
      "Requirement already satisfied: tqdm>=4.27 in /Users/hadi/.pyenv/versions/3.10.11/lib/python3.10/site-packages (from transformers) (4.67.1)\n",
      "Requirement already satisfied: fsspec>=2023.5.0 in /Users/hadi/.pyenv/versions/3.10.11/lib/python3.10/site-packages (from huggingface-hub>=0.30.2->langchain-huggingface) (2025.5.1)\n",
      "Requirement already satisfied: hf-xet<2.0.0,>=1.1.2 in /Users/hadi/.pyenv/versions/3.10.11/lib/python3.10/site-packages (from huggingface-hub>=0.30.2->langchain-huggingface) (1.1.5)\n",
      "Requirement already satisfied: sympy>=1.13.3 in /Users/hadi/.pyenv/versions/3.10.11/lib/python3.10/site-packages (from torch) (1.14.0)\n",
      "Requirement already satisfied: networkx in /Users/hadi/.pyenv/versions/3.10.11/lib/python3.10/site-packages (from torch) (3.4.2)\n",
      "Requirement already satisfied: jinja2 in /Users/hadi/.pyenv/versions/3.10.11/lib/python3.10/site-packages (from torch) (3.1.6)\n",
      "Requirement already satisfied: httpx<1,>=0.23.0 in /Users/hadi/.pyenv/versions/3.10.11/lib/python3.10/site-packages (from langsmith>=0.3.45->langchain-core<1.0.0,>=0.3.65->langchain-huggingface) (0.28.1)\n",
      "Requirement already satisfied: orjson<4.0.0,>=3.9.14 in /Users/hadi/.pyenv/versions/3.10.11/lib/python3.10/site-packages (from langsmith>=0.3.45->langchain-core<1.0.0,>=0.3.65->langchain-huggingface) (3.10.18)\n",
      "Requirement already satisfied: requests-toolbelt<2.0.0,>=1.0.0 in /Users/hadi/.pyenv/versions/3.10.11/lib/python3.10/site-packages (from langsmith>=0.3.45->langchain-core<1.0.0,>=0.3.65->langchain-huggingface) (1.0.0)\n",
      "Requirement already satisfied: zstandard<0.24.0,>=0.23.0 in /Users/hadi/.pyenv/versions/3.10.11/lib/python3.10/site-packages (from langsmith>=0.3.45->langchain-core<1.0.0,>=0.3.65->langchain-huggingface) (0.23.0)\n",
      "Requirement already satisfied: anyio in /Users/hadi/.pyenv/versions/3.10.11/lib/python3.10/site-packages (from httpx<1,>=0.23.0->langsmith>=0.3.45->langchain-core<1.0.0,>=0.3.65->langchain-huggingface) (4.9.0)\n",
      "Requirement already satisfied: certifi in /Users/hadi/.pyenv/versions/3.10.11/lib/python3.10/site-packages (from httpx<1,>=0.23.0->langsmith>=0.3.45->langchain-core<1.0.0,>=0.3.65->langchain-huggingface) (2025.4.26)\n",
      "Requirement already satisfied: httpcore==1.* in /Users/hadi/.pyenv/versions/3.10.11/lib/python3.10/site-packages (from httpx<1,>=0.23.0->langsmith>=0.3.45->langchain-core<1.0.0,>=0.3.65->langchain-huggingface) (1.0.9)\n",
      "Requirement already satisfied: idna in /Users/hadi/.pyenv/versions/3.10.11/lib/python3.10/site-packages (from httpx<1,>=0.23.0->langsmith>=0.3.45->langchain-core<1.0.0,>=0.3.65->langchain-huggingface) (3.10)\n",
      "Requirement already satisfied: h11>=0.16 in /Users/hadi/.pyenv/versions/3.10.11/lib/python3.10/site-packages (from httpcore==1.*->httpx<1,>=0.23.0->langsmith>=0.3.45->langchain-core<1.0.0,>=0.3.65->langchain-huggingface) (0.16.0)\n",
      "Requirement already satisfied: annotated-types>=0.6.0 in /Users/hadi/.pyenv/versions/3.10.11/lib/python3.10/site-packages (from pydantic>=2.7.4->langchain-core<1.0.0,>=0.3.65->langchain-huggingface) (0.7.0)\n",
      "Requirement already satisfied: pydantic-core==2.33.2 in /Users/hadi/.pyenv/versions/3.10.11/lib/python3.10/site-packages (from pydantic>=2.7.4->langchain-core<1.0.0,>=0.3.65->langchain-huggingface) (2.33.2)\n",
      "Requirement already satisfied: typing-inspection>=0.4.0 in /Users/hadi/.pyenv/versions/3.10.11/lib/python3.10/site-packages (from pydantic>=2.7.4->langchain-core<1.0.0,>=0.3.65->langchain-huggingface) (0.4.1)\n",
      "Requirement already satisfied: charset_normalizer<4,>=2 in /Users/hadi/.pyenv/versions/3.10.11/lib/python3.10/site-packages (from requests->transformers) (3.4.2)\n",
      "Requirement already satisfied: urllib3<3,>=1.21.1 in /Users/hadi/.pyenv/versions/3.10.11/lib/python3.10/site-packages (from requests->transformers) (2.4.0)\n",
      "Requirement already satisfied: mpmath<1.4,>=1.1.0 in /Users/hadi/.pyenv/versions/3.10.11/lib/python3.10/site-packages (from sympy>=1.13.3->torch) (1.3.0)\n",
      "Requirement already satisfied: exceptiongroup>=1.0.2 in /Users/hadi/.pyenv/versions/3.10.11/lib/python3.10/site-packages (from anyio->httpx<1,>=0.23.0->langsmith>=0.3.45->langchain-core<1.0.0,>=0.3.65->langchain-huggingface) (1.3.0)\n",
      "Requirement already satisfied: sniffio>=1.1 in /Users/hadi/.pyenv/versions/3.10.11/lib/python3.10/site-packages (from anyio->httpx<1,>=0.23.0->langsmith>=0.3.45->langchain-core<1.0.0,>=0.3.65->langchain-huggingface) (1.3.1)\n",
      "Requirement already satisfied: MarkupSafe>=2.0 in /Users/hadi/.pyenv/versions/3.10.11/lib/python3.10/site-packages (from jinja2->torch) (3.0.2)\n",
      "Downloading langchain_huggingface-0.3.0-py3-none-any.whl (27 kB)\n",
      "Installing collected packages: langchain-huggingface\n",
      "Successfully installed langchain-huggingface-0.3.0\n",
      "Requirement already satisfied: python-dotenv in /Users/hadi/.pyenv/versions/3.10.11/lib/python3.10/site-packages (1.1.0)\n"
     ]
    }
   ],
   "source": [
    "!pip install langchain-huggingface transformers torch\n",
    "!pip install python-dotenv\n"
   ]
  },
  {
   "cell_type": "code",
   "execution_count": null,
   "id": "c48560fb",
   "metadata": {},
   "outputs": [
    {
     "name": "stdout",
     "output_type": "stream",
     "text": [
      "<think>\n",
      "Okay, I need to figure out the capital of India. Let me start by recalling what I know. I think India is a country in South Asia. From what I remember, the capital is a major city, but I'm not entirely sure which one. I know there's New Delhi and Mumbai. Sometimes people get confused between the two.\n",
      "\n",
      "Wait, Mumbai is a big city, right? It's like the financial hub of India. I think it's formerly known as Bombay. But the capital... isn't New Delhi the capital? But why \"New\" Delhi? Is there an Old Delhi too? Maybe Delhi is a larger metropolitan area, and New Delhi is the part that's the capital.\n",
      "\n",
      "Let me check my notes. The capital of India is New Delhi. It's where the government is based, like the Parliament and the President's residence. I think New Delhi was established during British rule as the new capital, which is why it's called New Delhi, different from Old Delhi. So even though Delhi is a big city, the specific area called New Delhi is the administrative center. \n",
      "\n",
      "But sometimes people just say Delhi when referring to the capital. For example, in the Olympics, athletes might say they're from Delhi, but technically it's New Delhi. I should confirm this. Let me think of another way. If I remember the countries and their capitals, India's has been consistent as New Delhi in most recent references. \n",
      "\n",
      "So, putting it all together: India's capital is New Delhi. It's located within the National Capital Territory of Delhi. Therefore, the answer is New Delhi. I can cross-verify this by recalling that the Indian government's official websites probably use New Delhi as the capital. Yes, that makes sense. So despite Mumbai being a more populous city, the political capital is New Delhi.\n",
      "</think>\n",
      "\n",
      "The capital of India is **New Delhi**. It serves as the administrative and political center of the country, housing key government institutions such as the Parliament of India and the official residences of the President and Prime Minister. New Delhi is a distinct area within the broader metropolis of Delhi, collectively referred to as the National Capital Territory of Delhi (NCT). Established by the British in 1911, New Delhi replaced Calcutta (Kolkata) as the capital during the colonial era and has retained its status as India's capital since independence in 1947. \n",
      "\n",
      "**Key Points:**  \n",
      "- Official Name: New Delhi  \n",
      "- Located in: National Capital Territory of Delhi  \n",
      "- Function: Administrative, legislative, and political hub  \n",
      "- Historical Context: Designed by British architects Edwin Lutyens and Herbert Baker; inaugurated in 1931.  \n",
      "\n",
      "Mumbai (formerly Bombay) is India's financial and entertainment hub, while New Delhi remains the seat of government.\n"
     ]
    }
   ],
   "source": [
    "import os\n",
    "from langchain_huggingface import ChatHuggingFace, HuggingFaceEndpoint\n",
    "\n",
    "llm = HuggingFaceEndpoint(\n",
    "    repo_id=\"deepseek-ai/DeepSeek-R1\",\n",
    "    task=\"text-generation\",\n",
    "    \n",
    ")\n",
    "model = ChatHuggingFace(llm=llm)\n",
    "\n",
    "response = model.invoke(\"What is the capital of India?\")\n",
    "print(response.content)\n"
   ]
  },
  {
   "cell_type": "code",
   "execution_count": null,
   "id": "ae954b16",
   "metadata": {},
   "outputs": [],
   "source": []
  }
 ],
 "metadata": {
  "kernelspec": {
   "display_name": "Python 3",
   "language": "python",
   "name": "python3"
  },
  "language_info": {
   "codemirror_mode": {
    "name": "ipython",
    "version": 3
   },
   "file_extension": ".py",
   "mimetype": "text/x-python",
   "name": "python",
   "nbconvert_exporter": "python",
   "pygments_lexer": "ipython3",
   "version": "3.10.11"
  }
 },
 "nbformat": 4,
 "nbformat_minor": 5
}
