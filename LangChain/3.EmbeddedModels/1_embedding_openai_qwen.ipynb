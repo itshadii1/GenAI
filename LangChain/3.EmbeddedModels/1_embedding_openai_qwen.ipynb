{
 "cells": [
  {
   "cell_type": "code",
   "execution_count": null,
   "id": "9914e9d2",
   "metadata": {},
   "outputs": [],
   "source": [
    "from langchain_openai import OpenAIEmbeddings\n",
    "from dotenv import load_dotenv\n",
    "\n",
    "load_dotenv()\n",
    "\n",
    "embeding = OpenAIEmbeddings(model='text-embeddings-3-large', dimensons=32)\n",
    "\n",
    "result = embeding.embed_query(\"Delhi is the capital of India\")\n",
    "\n",
    "print(str(result))"
   ]
  }
 ],
 "metadata": {
  "language_info": {
   "name": "python"
  }
 },
 "nbformat": 4,
 "nbformat_minor": 5
}
