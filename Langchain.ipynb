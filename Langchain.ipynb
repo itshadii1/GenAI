{
 "cells": [
  {
   "cell_type": "code",
   "execution_count": 7,
   "id": "5337afb4",
   "metadata": {},
   "outputs": [
    {
     "name": "stdout",
     "output_type": "stream",
     "text": [
      "Collecting python-dotenv\n",
      "  Using cached python_dotenv-1.1.0-py3-none-any.whl.metadata (24 kB)\n",
      "Using cached python_dotenv-1.1.0-py3-none-any.whl (20 kB)\n",
      "Installing collected packages: python-dotenv\n",
      "Successfully installed python-dotenv-1.1.0\n",
      "Note: you may need to restart the kernel to use updated packages.\n"
     ]
    }
   ],
   "source": [
    "%pip install python-dotenv\n",
    "\n"
   ]
  },
  {
   "cell_type": "code",
   "execution_count": 12,
   "id": "791a0a9c",
   "metadata": {},
   "outputs": [
    {
     "name": "stdout",
     "output_type": "stream",
     "text": [
      "Unexpected exception formatting exception. Falling back to standard exception\n"
     ]
    },
    {
     "name": "stderr",
     "output_type": "stream",
     "text": [
      "Traceback (most recent call last):\n",
      "  File \"/Users/hadi/Development/Gen AI/.venv/lib/python3.10/site-packages/IPython/core/interactiveshell.py\", line 3579, in run_code\n",
      "  File \"/var/folders/gh/tnsxmmdd5zl4877dlhkhbs3r0000gn/T/ipykernel_63233/699703613.py\", line 17, in <module>\n",
      "    llm = ChatGroq(\n",
      "  File \"/Users/hadi/Development/Gen AI/.venv/lib/python3.10/site-packages/langchain_core/load/serializable.py\", line 130, in __init__\n",
      "  File \"/Users/hadi/Development/Gen AI/.venv/lib/python3.10/site-packages/pydantic/main.py\", line 253, in __init__\n",
      "  File \"/Users/hadi/Development/Gen AI/.venv/lib/python3.10/site-packages/langchain_groq/chat_models.py\", line 411, in validate_environment\n",
      "  File \"/Users/hadi/Development/Gen AI/.venv/lib/python3.10/site-packages/groq/_client.py\", line 89, in __init__\n",
      "  File \"/Users/hadi/Development/Gen AI/.venv/lib/python3.10/site-packages/groq/_base_client.py\", line 852, in __init__\n",
      "  File \"/Users/hadi/Development/Gen AI/.venv/lib/python3.10/site-packages/groq/_base_client.py\", line 782, in __init__\n",
      "  File \"/Users/hadi/Development/Gen AI/.venv/lib/python3.10/site-packages/httpx/_client.py\", line 688, in __init__\n",
      "  File \"/Users/hadi/Development/Gen AI/.venv/lib/python3.10/site-packages/httpx/_client.py\", line 731, in _init_transport\n",
      "  File \"/Users/hadi/Development/Gen AI/.venv/lib/python3.10/site-packages/httpx/_transports/default.py\", line 153, in __init__\n",
      "  File \"/Users/hadi/Development/Gen AI/.venv/lib/python3.10/site-packages/httpx/_config.py\", line 40, in create_ssl_context\n",
      "  File \"/Users/hadi/.pyenv/versions/3.10.11/lib/python3.10/ssl.py\", line 766, in create_default_context\n",
      "    context.load_verify_locations(cafile, capath, cadata)\n",
      "FileNotFoundError: [Errno 2] No such file or directory\n",
      "\n",
      "During handling of the above exception, another exception occurred:\n",
      "\n",
      "Traceback (most recent call last):\n",
      "  File \"/Users/hadi/Development/Gen AI/.venv/lib/python3.10/site-packages/pygments/styles/__init__.py\", line 45, in get_style_by_name\n",
      "ModuleNotFoundError: No module named 'pygments.styles.default'\n",
      "\n",
      "During handling of the above exception, another exception occurred:\n",
      "\n",
      "Traceback (most recent call last):\n",
      "  File \"/Users/hadi/Development/Gen AI/.venv/lib/python3.10/site-packages/IPython/core/interactiveshell.py\", line 2170, in showtraceback\n",
      "  File \"/Users/hadi/Development/Gen AI/.venv/lib/python3.10/site-packages/IPython/core/ultratb.py\", line 1457, in structured_traceback\n",
      "  File \"/Users/hadi/Development/Gen AI/.venv/lib/python3.10/site-packages/IPython/core/ultratb.py\", line 1348, in structured_traceback\n",
      "  File \"/Users/hadi/Development/Gen AI/.venv/lib/python3.10/site-packages/IPython/core/ultratb.py\", line 1195, in structured_traceback\n",
      "  File \"/Users/hadi/Development/Gen AI/.venv/lib/python3.10/site-packages/IPython/core/ultratb.py\", line 1085, in format_exception_as_a_whole\n",
      "  File \"/Users/hadi/Development/Gen AI/.venv/lib/python3.10/site-packages/IPython/core/ultratb.py\", line 1136, in get_records\n",
      "  File \"/Users/hadi/Development/Gen AI/.venv/lib/python3.10/site-packages/pygments/styles/__init__.py\", line 47, in get_style_by_name\n",
      "pygments.util.ClassNotFound: Could not find style module 'pygments.styles.default', though it should be builtin.\n"
     ]
    }
   ],
   "source": [
    "import os \n",
    "from dotenv import load_dotenv \n",
    "load_dotenv()\n",
    "\n",
    "from langchain_ollama import OllamaLLM\n",
    "\n",
    "# llm = OllamaLLM(model=\"llama3.2:latest\")\n",
    "\n",
    "\n",
    "# import streamlit as st \n",
    "\n",
    "from langchain_core.prompts import ChatPromptTemplate\n",
    "from langchain_core.output_parsers import StrOutputParser \n",
    "\n",
    "from langchain_groq import ChatGroq\n",
    "\n",
    "llm = ChatGroq(\n",
    "    model=\"llama-3.1-8b-instant\",\n",
    "    temperature=0,\n",
    "    max_tokens=None,\n",
    "    timeout=None,\n",
    "    max_retries=2,\n",
    "     # other params...\n",
    " )\n",
    "\n",
    "\n",
    "## Prompt Template \n",
    "\n",
    "prompt = ChatPromptTemplate.from_messages(\n",
    "    \n",
    "    [\n",
    "        (\"system\",\"You are a helpful assistant. Please respond to the question asked \"),\n",
    "        (\"user\",\"Question:{question}\")\n",
    "        \n",
    "    ]\n",
    "    \n",
    ")\n",
    "\n",
    "## streamlit framework\n",
    "\n",
    "# st.title(\"Langchain Demo with LLAMA2\")\n",
    "# input_text = st.text_input(\"What question do you have in mind ?\")\n",
    "\n",
    "## Ollama Llama model\n",
    "\n",
    "output_parser = StrOutputParser()\n",
    "chain = prompt|llm|output_parser\n",
    "\n",
    "\n",
    "# if input_text:\n",
    "#     st.write(chain.invoke({\"question\":input_text}))\n",
    "\n",
    "input_text = \"What are your capabilities?\"\n",
    "\n",
    "res = chain.invoke({\"question\":input_text})\n",
    "\n",
    "print(res)"
   ]
  },
  {
   "cell_type": "code",
   "execution_count": null,
   "id": "c4dddf2e",
   "metadata": {},
   "outputs": [],
   "source": []
  }
 ],
 "metadata": {
  "kernelspec": {
   "display_name": ".venv",
   "language": "python",
   "name": "python3"
  },
  "language_info": {
   "codemirror_mode": {
    "name": "ipython",
    "version": 3
   },
   "file_extension": ".py",
   "mimetype": "text/x-python",
   "name": "python",
   "nbconvert_exporter": "python",
   "pygments_lexer": "ipython3",
   "version": "3.10.11"
  }
 },
 "nbformat": 4,
 "nbformat_minor": 5
}
